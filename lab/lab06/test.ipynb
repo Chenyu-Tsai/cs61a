{
 "cells": [
  {
   "cell_type": "code",
   "execution_count": 127,
   "metadata": {},
   "outputs": [],
   "source": [
    "def insert_items(lst, entry, elem):\n",
    "    \"\"\"\n",
    "    >>> test_lst = [1, 5, 8, 5, 2, 3]\n",
    "    >>> new_lst = insert_items(test_lst, 5, 7)\n",
    "    >>> new_lst\n",
    "    [1, 5, 7, 8, 5, 7, 2, 3]\n",
    "    >>> large_lst = [1, 4, 8]\n",
    "    >>> large_lst2 = insert_items(large_lst, 4, 4)\n",
    "    >>> large_lst2\n",
    "    [1, 4, 4, 8]\n",
    "    >>> large_lst3 = insert_items(large_lst2, 4, 6)\n",
    "    >>> large_lst3\n",
    "    [1, 4, 6, 4, 6, 8]\n",
    "    >>> large_lst3 is large_lst\n",
    "    True\n",
    "    \"\"\"\n",
    "    \"*** YOUR CODE HERE ***\"\n",
    "\n",
    "    res = []\n",
    "\n",
    "    for num in lst:\n",
    "        res.append(num)\n",
    "        if num == entry:\n",
    "            res.append(elem)\n",
    "            \n",
    "    return res"
   ]
  },
  {
   "cell_type": "code",
   "execution_count": 128,
   "metadata": {},
   "outputs": [
    {
     "name": "stdout",
     "output_type": "stream",
     "text": [
      "1\n",
      "1\n"
     ]
    }
   ],
   "source": [
    "test_lst = [1, 5, 8, 5, 2, 3]\n",
    "new_lst = insert_items(test_lst, 5, 7)"
   ]
  },
  {
   "cell_type": "code",
   "execution_count": 124,
   "metadata": {},
   "outputs": [
    {
     "data": {
      "text/plain": [
       "0"
      ]
     },
     "execution_count": 124,
     "metadata": {},
     "output_type": "execute_result"
    }
   ],
   "source": [
    "fib()"
   ]
  },
  {
   "cell_type": "code",
   "execution_count": 125,
   "metadata": {},
   "outputs": [
    {
     "data": {
      "text/plain": [
       "1"
      ]
     },
     "execution_count": 125,
     "metadata": {},
     "output_type": "execute_result"
    }
   ],
   "source": [
    "fib()"
   ]
  },
  {
   "cell_type": "code",
   "execution_count": 126,
   "metadata": {},
   "outputs": [
    {
     "data": {
      "text/plain": [
       "1"
      ]
     },
     "execution_count": 126,
     "metadata": {},
     "output_type": "execute_result"
    }
   ],
   "source": [
    "fib()"
   ]
  },
  {
   "cell_type": "code",
   "execution_count": null,
   "metadata": {},
   "outputs": [],
   "source": []
  },
  {
   "cell_type": "code",
   "execution_count": null,
   "metadata": {},
   "outputs": [],
   "source": []
  }
 ],
 "metadata": {
  "interpreter": {
   "hash": "6ef76adc21811a1a9e94a188ccf3e368a643e8d703c22fe1bf4b817d25929eef"
  },
  "kernelspec": {
   "display_name": "Python 3.9.8 64-bit",
   "language": "python",
   "name": "python3"
  },
  "language_info": {
   "codemirror_mode": {
    "name": "ipython",
    "version": 3
   },
   "file_extension": ".py",
   "mimetype": "text/x-python",
   "name": "python",
   "nbconvert_exporter": "python",
   "pygments_lexer": "ipython3",
   "version": "3.9.8"
  },
  "orig_nbformat": 4
 },
 "nbformat": 4,
 "nbformat_minor": 2
}
