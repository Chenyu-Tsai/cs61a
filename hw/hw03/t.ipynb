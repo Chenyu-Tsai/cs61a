{
 "cells": [
  {
   "cell_type": "code",
   "execution_count": 6,
   "metadata": {},
   "outputs": [],
   "source": [
    "def interval(a, b):\n",
    "    \"\"\"Construct an interval from a to b.\"\"\"\n",
    "    return [a, b]\n",
    "\n",
    "def lower_bound(x):\n",
    "    \"\"\"Return the lower bound of interval x.\"\"\"\n",
    "    return min(x)\n",
    "\n",
    "\n",
    "def upper_bound(x):\n",
    "    \"\"\"Return the upper bound of interval x.\"\"\"\n",
    "    return max(x)\n",
    "\n",
    "def mul_interval(x, y):\n",
    "    \"\"\"Return the interval that contains the product of any value in x and any\n",
    "    value in y.\"\"\"\n",
    "    p1 = lower_bound(x) * lower_bound(y)\n",
    "    p2 = lower_bound(x) * upper_bound(y)\n",
    "    p3 = upper_bound(x) * lower_bound(y)\n",
    "    p4 = upper_bound(x) * upper_bound(y)\n",
    "    return interval(min(p1, p2, p3, p4), max(p1, p2, p3, p4))\n",
    "\n",
    "\n",
    "def sub_interval(x, y):\n",
    "    \"\"\"Return the interval that contains the difference between any value in x\n",
    "    and any value in y.\"\"\"\n",
    "    p1 = lower_bound(x) - lower_bound(y)\n",
    "    p2 = lower_bound(x) - upper_bound(y)\n",
    "    p3 = upper_bound(x) - lower_bound(y)\n",
    "    p4 = upper_bound(x) - upper_bound(y)\n",
    "    return interval(min(p1, p2, p3, p4), max(p1, p2, p3, p4))\n",
    "\n",
    "\n",
    "def div_interval(x, y):\n",
    "    \"\"\"Return the interval that contains the quotient of any value in x divided by\n",
    "    any value in y. Division is implemented as the multiplication of x by the\n",
    "    reciprocal of y.\"\"\"\n",
    "    \"*** YOUR CODE HERE ***\"\n",
    "    assert lower_bound(y) * upper_bound(y) > 0\n",
    "    reciprocal_y = interval(1/upper_bound(y), 1/lower_bound(y))\n",
    "    return mul_interval(x, reciprocal_y)\n",
    "\n",
    "def str_interval(x):\n",
    "    \"\"\"Return a string representation of interval x.\n",
    "    \"\"\"\n",
    "    return '{0} to {1}'.format(lower_bound(x), upper_bound(x))\n",
    "\n",
    "def add_interval(x, y):\n",
    "    \"\"\"Return an interval that contains the sum of any value in interval x and\n",
    "    any value in interval y.\"\"\"\n",
    "    lower = lower_bound(x) + lower_bound(y)\n",
    "    upper = upper_bound(x) + upper_bound(y)\n",
    "    return interval(lower, upper)"
   ]
  },
  {
   "cell_type": "code",
   "execution_count": 7,
   "metadata": {},
   "outputs": [
    {
     "ename": "AssertionError",
     "evalue": "",
     "output_type": "error",
     "traceback": [
      "\u001b[1;31m---------------------------------------------------------------------------\u001b[0m",
      "\u001b[1;31mAssertionError\u001b[0m                            Traceback (most recent call last)",
      "\u001b[1;32m<ipython-input-7-180d369723dc>\u001b[0m in \u001b[0;36m<module>\u001b[1;34m\u001b[0m\n\u001b[1;32m----> 1\u001b[1;33m \u001b[0mstr_interval\u001b[0m\u001b[1;33m(\u001b[0m\u001b[0mdiv_interval\u001b[0m\u001b[1;33m(\u001b[0m\u001b[0minterval\u001b[0m\u001b[1;33m(\u001b[0m\u001b[1;36m4\u001b[0m\u001b[1;33m,\u001b[0m \u001b[1;36m8\u001b[0m\u001b[1;33m)\u001b[0m\u001b[1;33m,\u001b[0m \u001b[0minterval\u001b[0m\u001b[1;33m(\u001b[0m\u001b[1;33m-\u001b[0m\u001b[1;36m1\u001b[0m\u001b[1;33m,\u001b[0m \u001b[1;36m2\u001b[0m\u001b[1;33m)\u001b[0m\u001b[1;33m)\u001b[0m\u001b[1;33m)\u001b[0m\u001b[1;33m\u001b[0m\u001b[1;33m\u001b[0m\u001b[0m\n\u001b[0m",
      "\u001b[1;32m<ipython-input-6-fce789ab2478>\u001b[0m in \u001b[0;36mdiv_interval\u001b[1;34m(x, y)\u001b[0m\n\u001b[0;32m     37\u001b[0m     reciprocal of y.\"\"\"\n\u001b[0;32m     38\u001b[0m     \u001b[1;34m\"*** YOUR CODE HERE ***\"\u001b[0m\u001b[1;33m\u001b[0m\u001b[1;33m\u001b[0m\u001b[0m\n\u001b[1;32m---> 39\u001b[1;33m     \u001b[1;32massert\u001b[0m \u001b[0mlower_bound\u001b[0m\u001b[1;33m(\u001b[0m\u001b[0my\u001b[0m\u001b[1;33m)\u001b[0m \u001b[1;33m*\u001b[0m \u001b[0mupper_bound\u001b[0m\u001b[1;33m(\u001b[0m\u001b[0my\u001b[0m\u001b[1;33m)\u001b[0m \u001b[1;33m>\u001b[0m \u001b[1;36m0\u001b[0m\u001b[1;33m\u001b[0m\u001b[1;33m\u001b[0m\u001b[0m\n\u001b[0m\u001b[0;32m     40\u001b[0m     \u001b[0mreciprocal_y\u001b[0m \u001b[1;33m=\u001b[0m \u001b[0minterval\u001b[0m\u001b[1;33m(\u001b[0m\u001b[1;36m1\u001b[0m\u001b[1;33m/\u001b[0m\u001b[0mupper_bound\u001b[0m\u001b[1;33m(\u001b[0m\u001b[0my\u001b[0m\u001b[1;33m)\u001b[0m\u001b[1;33m,\u001b[0m \u001b[1;36m1\u001b[0m\u001b[1;33m/\u001b[0m\u001b[0mlower_bound\u001b[0m\u001b[1;33m(\u001b[0m\u001b[0my\u001b[0m\u001b[1;33m)\u001b[0m\u001b[1;33m)\u001b[0m\u001b[1;33m\u001b[0m\u001b[1;33m\u001b[0m\u001b[0m\n\u001b[0;32m     41\u001b[0m     \u001b[1;32mreturn\u001b[0m \u001b[0mmul_interval\u001b[0m\u001b[1;33m(\u001b[0m\u001b[0mx\u001b[0m\u001b[1;33m,\u001b[0m \u001b[0mreciprocal_y\u001b[0m\u001b[1;33m)\u001b[0m\u001b[1;33m\u001b[0m\u001b[1;33m\u001b[0m\u001b[0m\n",
      "\u001b[1;31mAssertionError\u001b[0m: "
     ]
    }
   ],
   "source": [
    "str_interval(div_interval(interval(4, 8), interval(-1, 2)))"
   ]
  },
  {
   "cell_type": "code",
   "execution_count": 1,
   "metadata": {},
   "outputs": [],
   "source": [
    "def par1(r1, r2):\n",
    "    return (r1 * r2) / (r1 + r2)\n",
    "\n",
    "def par2(r1, r2):\n",
    "    return 1 / (1/r1 + 1/r2)\n"
   ]
  },
  {
   "cell_type": "code",
   "execution_count": 10,
   "metadata": {},
   "outputs": [
    {
     "ename": "NameError",
     "evalue": "name 'add_interval' is not defined",
     "output_type": "error",
     "traceback": [
      "\u001b[1;31m---------------------------------------------------------------------------\u001b[0m",
      "\u001b[1;31mNameError\u001b[0m                                 Traceback (most recent call last)",
      "\u001b[1;32m<ipython-input-10-d9c8fc2996c8>\u001b[0m in \u001b[0;36m<module>\u001b[1;34m\u001b[0m\n\u001b[1;32m----> 1\u001b[1;33m \u001b[0mpar1\u001b[0m\u001b[1;33m(\u001b[0m\u001b[1;33m[\u001b[0m\u001b[1;36m5\u001b[0m\u001b[1;33m,\u001b[0m \u001b[1;36m2\u001b[0m\u001b[1;33m]\u001b[0m\u001b[1;33m,\u001b[0m \u001b[1;33m[\u001b[0m\u001b[1;36m6\u001b[0m\u001b[1;33m,\u001b[0m \u001b[1;36m9\u001b[0m\u001b[1;33m]\u001b[0m\u001b[1;33m)\u001b[0m\u001b[1;33m\u001b[0m\u001b[1;33m\u001b[0m\u001b[0m\n\u001b[0m",
      "\u001b[1;32m<ipython-input-8-ae30678c19dc>\u001b[0m in \u001b[0;36mpar1\u001b[1;34m(r1, r2)\u001b[0m\n\u001b[0;32m      1\u001b[0m \u001b[1;32mdef\u001b[0m \u001b[0mpar1\u001b[0m\u001b[1;33m(\u001b[0m\u001b[0mr1\u001b[0m\u001b[1;33m,\u001b[0m \u001b[0mr2\u001b[0m\u001b[1;33m)\u001b[0m\u001b[1;33m:\u001b[0m\u001b[1;33m\u001b[0m\u001b[1;33m\u001b[0m\u001b[0m\n\u001b[1;32m----> 2\u001b[1;33m     \u001b[1;32mreturn\u001b[0m \u001b[0mdiv_interval\u001b[0m\u001b[1;33m(\u001b[0m\u001b[0mmul_interval\u001b[0m\u001b[1;33m(\u001b[0m\u001b[0mr1\u001b[0m\u001b[1;33m,\u001b[0m \u001b[0mr2\u001b[0m\u001b[1;33m)\u001b[0m\u001b[1;33m,\u001b[0m \u001b[0madd_interval\u001b[0m\u001b[1;33m(\u001b[0m\u001b[0mr1\u001b[0m\u001b[1;33m,\u001b[0m \u001b[0mr2\u001b[0m\u001b[1;33m)\u001b[0m\u001b[1;33m)\u001b[0m\u001b[1;33m\u001b[0m\u001b[1;33m\u001b[0m\u001b[0m\n\u001b[0m\u001b[0;32m      3\u001b[0m \u001b[1;33m\u001b[0m\u001b[0m\n\u001b[0;32m      4\u001b[0m \u001b[1;32mdef\u001b[0m \u001b[0mpar2\u001b[0m\u001b[1;33m(\u001b[0m\u001b[0mr1\u001b[0m\u001b[1;33m,\u001b[0m \u001b[0mr2\u001b[0m\u001b[1;33m)\u001b[0m\u001b[1;33m:\u001b[0m\u001b[1;33m\u001b[0m\u001b[1;33m\u001b[0m\u001b[0m\n\u001b[0;32m      5\u001b[0m     \u001b[0mone\u001b[0m \u001b[1;33m=\u001b[0m \u001b[0minterval\u001b[0m\u001b[1;33m(\u001b[0m\u001b[1;36m1\u001b[0m\u001b[1;33m,\u001b[0m \u001b[1;36m1\u001b[0m\u001b[1;33m)\u001b[0m\u001b[1;33m\u001b[0m\u001b[1;33m\u001b[0m\u001b[0m\n",
      "\u001b[1;31mNameError\u001b[0m: name 'add_interval' is not defined"
     ]
    }
   ],
   "source": [
    "par1([5, 2], [6, 9])"
   ]
  },
  {
   "cell_type": "code",
   "execution_count": 3,
   "metadata": {},
   "outputs": [
    {
     "data": {
      "text/plain": [
       "1.4285714285714286"
      ]
     },
     "execution_count": 3,
     "metadata": {},
     "output_type": "execute_result"
    }
   ],
   "source": [
    "par2(5, 2)"
   ]
  },
  {
   "cell_type": "code",
   "execution_count": 8,
   "metadata": {},
   "outputs": [],
   "source": [
    "def par1(r1, r2):\n",
    "    return div_interval(mul_interval(r1, r2), add_interval(r1, r2))\n",
    "\n",
    "def par2(r1, r2):\n",
    "    one = interval(1, 1)\n",
    "    rep_r1 = div_interval(one, r1)\n",
    "    rep_r2 = div_interval(one, r2)\n",
    "    return div_interval(one, add_interval(rep_r1, rep_r2))"
   ]
  },
  {
   "cell_type": "code",
   "execution_count": null,
   "metadata": {},
   "outputs": [],
   "source": []
  }
 ],
 "metadata": {
  "interpreter": {
   "hash": "a26bca440d0c918941aa2a03160f535b90b7b6a926432a68462934ce8b1baaf1"
  },
  "kernelspec": {
   "display_name": "Python 3.9.8 64-bit",
   "language": "python",
   "name": "python3"
  },
  "language_info": {
   "codemirror_mode": {
    "name": "ipython",
    "version": 3
   },
   "file_extension": ".py",
   "mimetype": "text/x-python",
   "name": "python",
   "nbconvert_exporter": "python",
   "pygments_lexer": "ipython3",
   "version": "3.9.8"
  },
  "orig_nbformat": 4
 },
 "nbformat": 4,
 "nbformat_minor": 2
}
